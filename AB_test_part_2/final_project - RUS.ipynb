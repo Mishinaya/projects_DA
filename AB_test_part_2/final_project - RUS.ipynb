{
 "cells": [
  {
   "attachments": {},
   "cell_type": "markdown",
   "id": "dfd97929",
   "metadata": {},
   "source": [
    "# A/B–тестирование\n",
    "### Условие\n",
    "\n",
    "В ходе тестирования одной гипотезы целевой группе была предложена новая механика оплаты услуг на сайте, у контрольной группы оставалась базовая механика. Проанализировать итоги эксперимента и сделать вывод, стоит ли запускать новую механику оплаты на всех пользователей.\n",
    "\n",
    "###  Входные данные\n",
    "\n",
    "В качестве входных данных Вы имеете 4 csv-файла:\n",
    "\n",
    "- **groups.csv** - файл с информацией о принадлежности пользователя к контрольной или экспериментальной группе (А – контроль, B – целевая группа) \n",
    "- **groups_add.csv** - дополнительный файл с пользователями, который вам прислали спустя 2 дня после передачи данных\n",
    "- **active_studs.csv** - файл с информацией о пользователях, которые зашли на платформу в дни проведения эксперимента. \n",
    "- **checks.csv** - файл с информацией об оплатах пользователей в дни проведения эксперимента. \n",
    "### Вопросы\n",
    "\n",
    "Задачи:\n",
    "\n",
    "- Определить метрики\n",
    "- Имеются ли различия в показателях и с чем они могут быть связаны?\n",
    "- Являются ли эти различия статистически значимыми?\n",
    "- Стоит ли запускать новую механику на всех пользователей?\n",
    "\n",
    "\n",
    "Реализовать функцию, которая будет автоматически подгружать информацию из дополнительного файла **groups_add.csv** (заголовки могут отличаться) и на основании дополнительных параметров пересчитывать метрики.\n",
    "Реализуйте функцию, которая будет строить графики по получаемым метрикам."
   ]
  },
  {
   "cell_type": "code",
   "execution_count": null,
   "id": "b3fba5ac",
   "metadata": {},
   "outputs": [],
   "source": [
    "import pandas as pd\n",
    "import numpy as np\n",
    "import matplotlib.pyplot as plt\n",
    "import seaborn as sns\n",
    "import plotly.express as px\n",
    "from datetime import timedelta\n",
    "import datetime as dt\n",
    "%matplotlib inline \n",
    "import calendar\n",
    "from tqdm.auto import tqdm\n",
    "from scipy.stats import norm \n",
    "from scipy.stats import norm, mannwhitneyu, ttest_ind, shapiro, levene, chi2_contingency\n",
    "import statsmodels.api as sm\n",
    "from datetime import datetime\n",
    "import pandahouse as ph\n",
    "import numpy as np\n",
    "import warnings\n",
    "warnings.filterwarnings('ignore')\n",
    "import pingouin as pg"
   ]
  },
  {
   "attachments": {},
   "cell_type": "markdown",
   "id": "debec3b0",
   "metadata": {},
   "source": [
    "# Задание 1. A/B–тестирование"
   ]
  },
  {
   "cell_type": "code",
   "execution_count": 2,
   "id": "88a7860e",
   "metadata": {},
   "outputs": [],
   "source": [
    "# file with information about the user's belonging to the control or experimental group (A - control, B - target group) \n",
    "groups = pd.read_csv('groups.csv', sep=';')\n",
    "#an additional file with users that was sent to you 2 days after the data transfer\n",
    "group_add = pd.read_csv('group_add.csv')\n",
    "# file with information about users who logged into the platform on the days of the experiment\n",
    "active_studs = pd.read_csv('active_studs.csv', sep=';')\n",
    "# file with information about user payments on the days of the experiment\n",
    "checks = pd.read_csv('checks.csv', sep=';')"
   ]
  },
  {
   "cell_type": "code",
   "execution_count": 73,
   "id": "467ee8e5",
   "metadata": {},
   "outputs": [],
   "source": [
    "active_studs.rename(columns={'student_id': 'id'}, inplace=True)\n",
    "\n",
    "checks.rename(columns={'student_id': 'id'}, inplace=True)"
   ]
  },
  {
   "attachments": {},
   "cell_type": "markdown",
   "id": "df10e310",
   "metadata": {},
   "source": [
    "### table: groups"
   ]
  },
  {
   "cell_type": "code",
   "execution_count": 76,
   "id": "6e0b3bd6",
   "metadata": {},
   "outputs": [
    {
     "name": "stdout",
     "output_type": "stream",
     "text": [
      "Количество строк: 74484 \n",
      "\n",
      "Кол-во пропущенных значений id: 0 \n",
      "\n",
      "Кол-во пропущенных значений grp: 0 \n",
      "\n",
      "Уникальных id в датасете: 74484 \n",
      "\n",
      "Note: Все значения id уникальны\n"
     ]
    }
   ],
   "source": [
    "print('Количество строк:', groups.shape[0],'\\n')\n",
    "print('Кол-во пропущенных значений id:', groups.id.isna().sum(),'\\n')\n",
    "print('Кол-во пропущенных значений grp:', groups.grp.isna().sum(),'\\n')\n",
    "print('Уникальных id в датасете:', groups.id.nunique(),'\\n')\n",
    "\n",
    "if groups.shape[0] ==  groups.id.nunique():\n",
    "    print('Note: Все значения id уникальны')\n",
    "else:\n",
    "    print('Note: Осторожно, есть повторы')"
   ]
  },
  {
   "attachments": {},
   "cell_type": "markdown",
   "id": "2c9c1282",
   "metadata": {},
   "source": [
    "### table: group_add"
   ]
  },
  {
   "cell_type": "code",
   "execution_count": 77,
   "id": "396f082a",
   "metadata": {},
   "outputs": [
    {
     "name": "stdout",
     "output_type": "stream",
     "text": [
      "Количество строк: 92 \n",
      "\n",
      "Кол-во пропущенных значений id: 0 \n",
      "\n",
      "Кол-во пропущенных значений grp: 0 \n",
      "\n",
      "Уникальных id в датасете: 92 \n",
      "\n",
      "Note: Все значения id уникальны\n"
     ]
    }
   ],
   "source": [
    "print('Количество строк:', group_add.shape[0],'\\n')\n",
    "print('Кол-во пропущенных значений id:', group_add.id.isna().sum(),'\\n')\n",
    "print('Кол-во пропущенных значений grp:', group_add.grp.isna().sum(), '\\n')\n",
    "print('Уникальных id в датасете:', group_add.id.nunique(),'\\n')\n",
    "\n",
    "if group_add.shape[0] ==  group_add.id.nunique():\n",
    "    print('Note: Все значения id уникальны')\n",
    "else:\n",
    "    print('Note: Осторожно, есть повторы')"
   ]
  },
  {
   "attachments": {},
   "cell_type": "markdown",
   "id": "4e96c746",
   "metadata": {},
   "source": [
    "#### Объединение таблиц groups, group_add"
   ]
  },
  {
   "cell_type": "code",
   "execution_count": 78,
   "id": "5b3159a8",
   "metadata": {},
   "outputs": [],
   "source": [
    "general = pd.concat([groups, group_add])"
   ]
  },
  {
   "cell_type": "code",
   "execution_count": 79,
   "id": "b6cab2f4",
   "metadata": {},
   "outputs": [
    {
     "name": "stdout",
     "output_type": "stream",
     "text": [
      "Количество строк: 74576 \n",
      "\n",
      "Кол-во пропущенных значений id: 0 \n",
      "\n",
      "Кол-во пропущенных значений grp: 0 \n",
      "\n",
      "Уникальных id в датасете: 74576 \n",
      "\n",
      "Note: Все значения id уникальны\n"
     ]
    }
   ],
   "source": [
    "print('Количество строк:', general.shape[0],'\\n')\n",
    "print('Кол-во пропущенных значений id:', general.id.isna().sum(),'\\n')\n",
    "print('Кол-во пропущенных значений grp:', general.grp.isna().sum(),'\\n')\n",
    "print('Уникальных id в датасете:', general.id.nunique(),'\\n')\n",
    "\n",
    "if general.shape[0] ==  general.id.nunique():\n",
    "    print('Note: Все значения id уникальны')\n",
    "else:\n",
    "    print('Note: Осторожно, есть повторы')"
   ]
  },
  {
   "cell_type": "code",
   "execution_count": 80,
   "id": "0f035398",
   "metadata": {},
   "outputs": [
    {
     "name": "stdout",
     "output_type": "stream",
     "text": [
      "Количество строк было: 74576 \n",
      "Количество строк после соединения: 74576\n",
      "Верно\n"
     ]
    }
   ],
   "source": [
    "print('Количество строк было:', group_add.id.count() + groups.id.count(), \n",
    "      '\\nКоличество строк после соединения:', pd.concat([groups, group_add]).id.count())\n",
    "if  (group_add.id.count() + groups.id.count()) == general.id.count():\n",
    "    print('Верно')\n",
    "else:\n",
    "    print('ERROR')"
   ]
  },
  {
   "cell_type": "code",
   "execution_count": 81,
   "id": "2f7ef0db",
   "metadata": {},
   "outputs": [
    {
     "data": {
      "image/png": "[encoded data removed]",
      "text/plain": [
       "<Figure size 640x480 with 1 Axes>"
      ]
     },
     "metadata": {},
     "output_type": "display_data"
    }
   ],
   "source": [
    "ax = sns.countplot(x = general['grp'].sort_values())\n",
    "ax.set_title('Количество пользователей\\n')\n",
    "ax.set_xlabel('Group')\n",
    "\n",
    "for container in ax.containers:\n",
    "    ax.bar_label(container)"
   ]
  },
  {
   "cell_type": "code",
   "execution_count": 82,
   "id": "3214fc3c",
   "metadata": {},
   "outputs": [
    {
     "data": {
      "text/plain": [
       "B    80.3\n",
       "A    19.7\n",
       "Name: grp, dtype: float64"
      ]
     },
     "execution_count": 82,
     "metadata": {},
     "output_type": "execute_result"
    }
   ],
   "source": [
    "# Считаем процентное соотношение людей в группах.\n",
    "general.grp.value_counts(normalize=True).mul(100).round(2)"
   ]
  },
  {
   "attachments": {},
   "cell_type": "markdown",
   "id": "397c2a13",
   "metadata": {},
   "source": [
    "В контрольной группе (А) 14693 чел ~ **19.7 %**, в тестовой (B) – 59883 чел ~ **80.3 %**.\n",
    "\n",
    " Полученное распределение по группам выглядит немного странно"
   ]
  },
  {
   "attachments": {},
   "cell_type": "markdown",
   "id": "9cdf657b",
   "metadata": {},
   "source": [
    "#### table: active_studs"
   ]
  },
  {
   "cell_type": "code",
   "execution_count": 83,
   "id": "b4d6a210",
   "metadata": {},
   "outputs": [
    {
     "data": {
      "text/html": [
       "<div>\n",
       "<style scoped>\n",
       "    .dataframe tbody tr th:only-of-type {\n",
       "        vertical-align: middle;\n",
       "    }\n",
       "\n",
       "    .dataframe tbody tr th {\n",
       "        vertical-align: top;\n",
       "    }\n",
       "\n",
       "    .dataframe thead th {\n",
       "        text-align: right;\n",
       "    }\n",
       "</style>\n",
       "<table border=\"1\" class=\"dataframe\">\n",
       "  <thead>\n",
       "    <tr style=\"text-align: right;\">\n",
       "      <th></th>\n",
       "      <th>id</th>\n",
       "    </tr>\n",
       "  </thead>\n",
       "  <tbody>\n",
       "    <tr>\n",
       "      <th>0</th>\n",
       "      <td>581585</td>\n",
       "    </tr>\n",
       "    <tr>\n",
       "      <th>1</th>\n",
       "      <td>5723133</td>\n",
       "    </tr>\n",
       "    <tr>\n",
       "      <th>2</th>\n",
       "      <td>3276743</td>\n",
       "    </tr>\n",
       "    <tr>\n",
       "      <th>3</th>\n",
       "      <td>4238589</td>\n",
       "    </tr>\n",
       "    <tr>\n",
       "      <th>4</th>\n",
       "      <td>4475369</td>\n",
       "    </tr>\n",
       "  </tbody>\n",
       "</table>\n",
       "</div>"
      ],
      "text/plain": [
       "        id\n",
       "0   581585\n",
       "1  5723133\n",
       "2  3276743\n",
       "3  4238589\n",
       "4  4475369"
      ]
     },
     "execution_count": 83,
     "metadata": {},
     "output_type": "execute_result"
    }
   ],
   "source": [
    "active_studs.head()"
   ]
  },
  {
   "cell_type": "code",
   "execution_count": 84,
   "id": "1c1bba60",
   "metadata": {},
   "outputs": [
    {
     "name": "stdout",
     "output_type": "stream",
     "text": [
      "Количество строк: 8341 \n",
      "\n",
      "Уникальных id в датасете: 8341 \n",
      "\n"
     ]
    }
   ],
   "source": [
    "print('Количество строк:', active_studs.shape[0],'\\n')\n",
    "print('Уникальных id в датасете:', active_studs.id.nunique(),'\\n')"
   ]
  },
  {
   "attachments": {},
   "cell_type": "markdown",
   "id": "343c506b",
   "metadata": {},
   "source": [
    "все ли id из active_studs встречаются в general"
   ]
  },
  {
   "cell_type": "code",
   "execution_count": 85,
   "id": "c5d26f3e",
   "metadata": {},
   "outputs": [
    {
     "data": {
      "text/plain": [
       "True    8341\n",
       "Name: id, dtype: int64"
      ]
     },
     "execution_count": 85,
     "metadata": {},
     "output_type": "execute_result"
    }
   ],
   "source": [
    "active_studs.id.isin(general.id).value_counts()"
   ]
  },
  {
   "attachments": {},
   "cell_type": "markdown",
   "id": "fb48e6f6",
   "metadata": {},
   "source": [
    "#### table: checks"
   ]
  },
  {
   "cell_type": "code",
   "execution_count": 86,
   "id": "ea1c1cc5",
   "metadata": {},
   "outputs": [
    {
     "data": {
      "text/html": [
       "<div>\n",
       "<style scoped>\n",
       "    .dataframe tbody tr th:only-of-type {\n",
       "        vertical-align: middle;\n",
       "    }\n",
       "\n",
       "    .dataframe tbody tr th {\n",
       "        vertical-align: top;\n",
       "    }\n",
       "\n",
       "    .dataframe thead th {\n",
       "        text-align: right;\n",
       "    }\n",
       "</style>\n",
       "<table border=\"1\" class=\"dataframe\">\n",
       "  <thead>\n",
       "    <tr style=\"text-align: right;\">\n",
       "      <th></th>\n",
       "      <th>id</th>\n",
       "      <th>rev</th>\n",
       "    </tr>\n",
       "  </thead>\n",
       "  <tbody>\n",
       "    <tr>\n",
       "      <th>0</th>\n",
       "      <td>1627</td>\n",
       "      <td>990.0</td>\n",
       "    </tr>\n",
       "    <tr>\n",
       "      <th>1</th>\n",
       "      <td>3185</td>\n",
       "      <td>690.0</td>\n",
       "    </tr>\n",
       "    <tr>\n",
       "      <th>2</th>\n",
       "      <td>25973</td>\n",
       "      <td>690.0</td>\n",
       "    </tr>\n",
       "    <tr>\n",
       "      <th>3</th>\n",
       "      <td>26280</td>\n",
       "      <td>690.0</td>\n",
       "    </tr>\n",
       "    <tr>\n",
       "      <th>4</th>\n",
       "      <td>100300</td>\n",
       "      <td>990.0</td>\n",
       "    </tr>\n",
       "  </tbody>\n",
       "</table>\n",
       "</div>"
      ],
      "text/plain": [
       "       id    rev\n",
       "0    1627  990.0\n",
       "1    3185  690.0\n",
       "2   25973  690.0\n",
       "3   26280  690.0\n",
       "4  100300  990.0"
      ]
     },
     "execution_count": 86,
     "metadata": {},
     "output_type": "execute_result"
    }
   ],
   "source": [
    "checks.head()"
   ]
  },
  {
   "cell_type": "code",
   "execution_count": 87,
   "id": "6bb219b4",
   "metadata": {},
   "outputs": [
    {
     "name": "stdout",
     "output_type": "stream",
     "text": [
      "Количество строк: 541 \n",
      "\n",
      "Кол-во пропущенных значений id: 0 \n",
      "\n",
      "Кол-во пропущенных значений rev: 0 \n",
      "\n",
      "Уникальных id в датасете: 541 \n",
      "\n",
      "Уникальных повторов id в датасете: 0 \n",
      "\n"
     ]
    }
   ],
   "source": [
    "print('Количество строк:', checks.shape[0],'\\n')\n",
    "print('Кол-во пропущенных значений id:', checks.id.isna().sum(),'\\n')\n",
    "print('Кол-во пропущенных значений rev:', checks.rev.isna().sum(),'\\n')\n",
    "print('Уникальных id в датасете:', checks.id.nunique(),'\\n')\n",
    "print('Уникальных повторов id в датасете:', checks.id.duplicated().sum(),'\\n')"
   ]
  },
  {
   "attachments": {},
   "cell_type": "markdown",
   "id": "baf5d948",
   "metadata": {},
   "source": [
    "Пропущенных значений и дубликатов нет. Всего 541 оплат, каждый пользователь совершил одну покупку.\n",
    "Проверим все ли пользователи, совершившие оплату, заходили на платформу в дни эксперимента."
   ]
  },
  {
   "cell_type": "code",
   "execution_count": 88,
   "id": "76299960",
   "metadata": {},
   "outputs": [
    {
     "data": {
      "text/plain": [
       "True     392\n",
       "False    149\n",
       "Name: id, dtype: int64"
      ]
     },
     "execution_count": 88,
     "metadata": {},
     "output_type": "execute_result"
    }
   ],
   "source": [
    "checks.id.isin(active_studs.id).value_counts()"
   ]
  },
  {
   "attachments": {},
   "cell_type": "markdown",
   "id": "e7356cbe",
   "metadata": {},
   "source": [
    "149 пользователей совершили оплату, но не заходили на платформу. Возможно это подключены автоплатежи, произошло автоматическое списание денег и пользователь не заходил на сайт. Данныхх пользователей учитывать в дальнейшем не буду."
   ]
  },
  {
   "cell_type": "code",
   "execution_count": 89,
   "id": "9cabfe80",
   "metadata": {},
   "outputs": [
    {
     "data": {
      "text/plain": [
       "True    541\n",
       "Name: id, dtype: int64"
      ]
     },
     "execution_count": 89,
     "metadata": {},
     "output_type": "execute_result"
    }
   ],
   "source": [
    "checks.id.isin(general.id).value_counts()"
   ]
  },
  {
   "attachments": {},
   "cell_type": "markdown",
   "id": "9163ff5e",
   "metadata": {},
   "source": [
    "Объединим таблицы, исключая пользователей оплативших, но при этом не заходивших на платформу в дни эксперимента"
   ]
  },
  {
   "cell_type": "code",
   "execution_count": 90,
   "id": "826022a7",
   "metadata": {},
   "outputs": [
    {
     "data": {
      "text/html": [
       "<div>\n",
       "<style scoped>\n",
       "    .dataframe tbody tr th:only-of-type {\n",
       "        vertical-align: middle;\n",
       "    }\n",
       "\n",
       "    .dataframe tbody tr th {\n",
       "        vertical-align: top;\n",
       "    }\n",
       "\n",
       "    .dataframe thead th {\n",
       "        text-align: right;\n",
       "    }\n",
       "</style>\n",
       "<table border=\"1\" class=\"dataframe\">\n",
       "  <thead>\n",
       "    <tr style=\"text-align: right;\">\n",
       "      <th></th>\n",
       "      <th>id</th>\n",
       "      <th>grp</th>\n",
       "      <th>rev</th>\n",
       "    </tr>\n",
       "  </thead>\n",
       "  <tbody>\n",
       "    <tr>\n",
       "      <th>0</th>\n",
       "      <td>1489</td>\n",
       "      <td>B</td>\n",
       "      <td>0.0</td>\n",
       "    </tr>\n",
       "    <tr>\n",
       "      <th>1</th>\n",
       "      <td>1627</td>\n",
       "      <td>A</td>\n",
       "      <td>990.0</td>\n",
       "    </tr>\n",
       "  </tbody>\n",
       "</table>\n",
       "</div>"
      ],
      "text/plain": [
       "     id grp    rev\n",
       "0  1489   B    0.0\n",
       "1  1627   A  990.0"
      ]
     },
     "execution_count": 90,
     "metadata": {},
     "output_type": "execute_result"
    }
   ],
   "source": [
    "df = general.merge(checks, on='id', how='left').fillna(0)\n",
    "df.head(2)"
   ]
  },
  {
   "cell_type": "code",
   "execution_count": 91,
   "id": "ab81db43",
   "metadata": {},
   "outputs": [
    {
     "data": {
      "text/html": [
       "<div>\n",
       "<style scoped>\n",
       "    .dataframe tbody tr th:only-of-type {\n",
       "        vertical-align: middle;\n",
       "    }\n",
       "\n",
       "    .dataframe tbody tr th {\n",
       "        vertical-align: top;\n",
       "    }\n",
       "\n",
       "    .dataframe thead th {\n",
       "        text-align: right;\n",
       "    }\n",
       "</style>\n",
       "<table border=\"1\" class=\"dataframe\">\n",
       "  <thead>\n",
       "    <tr style=\"text-align: right;\">\n",
       "      <th></th>\n",
       "      <th>id</th>\n",
       "      <th>grp</th>\n",
       "      <th>rev</th>\n",
       "      <th>is_active</th>\n",
       "    </tr>\n",
       "  </thead>\n",
       "  <tbody>\n",
       "    <tr>\n",
       "      <th>0</th>\n",
       "      <td>1489</td>\n",
       "      <td>B</td>\n",
       "      <td>0.0</td>\n",
       "      <td>False</td>\n",
       "    </tr>\n",
       "    <tr>\n",
       "      <th>1</th>\n",
       "      <td>1627</td>\n",
       "      <td>A</td>\n",
       "      <td>990.0</td>\n",
       "      <td>True</td>\n",
       "    </tr>\n",
       "    <tr>\n",
       "      <th>2</th>\n",
       "      <td>1768</td>\n",
       "      <td>B</td>\n",
       "      <td>0.0</td>\n",
       "      <td>False</td>\n",
       "    </tr>\n",
       "  </tbody>\n",
       "</table>\n",
       "</div>"
      ],
      "text/plain": [
       "     id grp    rev  is_active\n",
       "0  1489   B    0.0      False\n",
       "1  1627   A  990.0       True\n",
       "2  1768   B    0.0      False"
      ]
     },
     "execution_count": 91,
     "metadata": {},
     "output_type": "execute_result"
    }
   ],
   "source": [
    "df['is_active'] = df.id.isin(active_studs.id)\n",
    "df.head(3)"
   ]
  },
  {
   "cell_type": "code",
   "execution_count": 92,
   "id": "d215a90a",
   "metadata": {},
   "outputs": [],
   "source": [
    "df_active = df[(df.is_active)]"
   ]
  },
  {
   "cell_type": "code",
   "execution_count": 94,
   "id": "76c4a642",
   "metadata": {},
   "outputs": [],
   "source": [
    "df_active['paid'] = (df_active.rev != 0) * 1"
   ]
  },
  {
   "cell_type": "code",
   "execution_count": 95,
   "id": "330beb29",
   "metadata": {},
   "outputs": [
    {
     "data": {
      "text/html": [
       "<div>\n",
       "<style scoped>\n",
       "    .dataframe tbody tr th:only-of-type {\n",
       "        vertical-align: middle;\n",
       "    }\n",
       "\n",
       "    .dataframe tbody tr th {\n",
       "        vertical-align: top;\n",
       "    }\n",
       "\n",
       "    .dataframe thead th {\n",
       "        text-align: right;\n",
       "    }\n",
       "</style>\n",
       "<table border=\"1\" class=\"dataframe\">\n",
       "  <thead>\n",
       "    <tr style=\"text-align: right;\">\n",
       "      <th></th>\n",
       "      <th>id</th>\n",
       "      <th>grp</th>\n",
       "      <th>rev</th>\n",
       "      <th>is_active</th>\n",
       "      <th>paid</th>\n",
       "    </tr>\n",
       "  </thead>\n",
       "  <tbody>\n",
       "    <tr>\n",
       "      <th>1</th>\n",
       "      <td>1627</td>\n",
       "      <td>A</td>\n",
       "      <td>990.0</td>\n",
       "      <td>True</td>\n",
       "      <td>1</td>\n",
       "    </tr>\n",
       "    <tr>\n",
       "      <th>10</th>\n",
       "      <td>2085</td>\n",
       "      <td>B</td>\n",
       "      <td>0.0</td>\n",
       "      <td>True</td>\n",
       "      <td>0</td>\n",
       "    </tr>\n",
       "    <tr>\n",
       "      <th>12</th>\n",
       "      <td>2215</td>\n",
       "      <td>B</td>\n",
       "      <td>0.0</td>\n",
       "      <td>True</td>\n",
       "      <td>0</td>\n",
       "    </tr>\n",
       "    <tr>\n",
       "      <th>43</th>\n",
       "      <td>3391</td>\n",
       "      <td>A</td>\n",
       "      <td>0.0</td>\n",
       "      <td>True</td>\n",
       "      <td>0</td>\n",
       "    </tr>\n",
       "    <tr>\n",
       "      <th>45</th>\n",
       "      <td>3401</td>\n",
       "      <td>B</td>\n",
       "      <td>0.0</td>\n",
       "      <td>True</td>\n",
       "      <td>0</td>\n",
       "    </tr>\n",
       "    <tr>\n",
       "      <th>...</th>\n",
       "      <td>...</td>\n",
       "      <td>...</td>\n",
       "      <td>...</td>\n",
       "      <td>...</td>\n",
       "      <td>...</td>\n",
       "    </tr>\n",
       "    <tr>\n",
       "      <th>74543</th>\n",
       "      <td>5760471</td>\n",
       "      <td>B</td>\n",
       "      <td>0.0</td>\n",
       "      <td>True</td>\n",
       "      <td>0</td>\n",
       "    </tr>\n",
       "    <tr>\n",
       "      <th>74545</th>\n",
       "      <td>5777081</td>\n",
       "      <td>B</td>\n",
       "      <td>0.0</td>\n",
       "      <td>True</td>\n",
       "      <td>0</td>\n",
       "    </tr>\n",
       "    <tr>\n",
       "      <th>74558</th>\n",
       "      <td>5870856</td>\n",
       "      <td>A</td>\n",
       "      <td>0.0</td>\n",
       "      <td>True</td>\n",
       "      <td>0</td>\n",
       "    </tr>\n",
       "    <tr>\n",
       "      <th>74561</th>\n",
       "      <td>5945085</td>\n",
       "      <td>B</td>\n",
       "      <td>0.0</td>\n",
       "      <td>True</td>\n",
       "      <td>0</td>\n",
       "    </tr>\n",
       "    <tr>\n",
       "      <th>74562</th>\n",
       "      <td>5951797</td>\n",
       "      <td>B</td>\n",
       "      <td>0.0</td>\n",
       "      <td>True</td>\n",
       "      <td>0</td>\n",
       "    </tr>\n",
       "  </tbody>\n",
       "</table>\n",
       "<p>8341 rows × 5 columns</p>\n",
       "</div>"
      ],
      "text/plain": [
       "            id grp    rev  is_active  paid\n",
       "1         1627   A  990.0       True     1\n",
       "10        2085   B    0.0       True     0\n",
       "12        2215   B    0.0       True     0\n",
       "43        3391   A    0.0       True     0\n",
       "45        3401   B    0.0       True     0\n",
       "...        ...  ..    ...        ...   ...\n",
       "74543  5760471   B    0.0       True     0\n",
       "74545  5777081   B    0.0       True     0\n",
       "74558  5870856   A    0.0       True     0\n",
       "74561  5945085   B    0.0       True     0\n",
       "74562  5951797   B    0.0       True     0\n",
       "\n",
       "[8341 rows x 5 columns]"
      ]
     },
     "execution_count": 95,
     "metadata": {},
     "output_type": "execute_result"
    }
   ],
   "source": [
    "df_active"
   ]
  },
  {
   "cell_type": "code",
   "execution_count": 96,
   "id": "3c1d6f76",
   "metadata": {},
   "outputs": [
    {
     "data": {
      "text/html": [
       "<div>\n",
       "<style scoped>\n",
       "    .dataframe tbody tr th:only-of-type {\n",
       "        vertical-align: middle;\n",
       "    }\n",
       "\n",
       "    .dataframe tbody tr th {\n",
       "        vertical-align: top;\n",
       "    }\n",
       "\n",
       "    .dataframe thead th {\n",
       "        text-align: right;\n",
       "    }\n",
       "</style>\n",
       "<table border=\"1\" class=\"dataframe\">\n",
       "  <thead>\n",
       "    <tr style=\"text-align: right;\">\n",
       "      <th></th>\n",
       "      <th>id</th>\n",
       "      <th>grp</th>\n",
       "      <th>rev</th>\n",
       "      <th>paid</th>\n",
       "    </tr>\n",
       "  </thead>\n",
       "  <tbody>\n",
       "    <tr>\n",
       "      <th>1</th>\n",
       "      <td>1627</td>\n",
       "      <td>A</td>\n",
       "      <td>990.0</td>\n",
       "      <td>1</td>\n",
       "    </tr>\n",
       "    <tr>\n",
       "      <th>10</th>\n",
       "      <td>2085</td>\n",
       "      <td>B</td>\n",
       "      <td>0.0</td>\n",
       "      <td>0</td>\n",
       "    </tr>\n",
       "    <tr>\n",
       "      <th>12</th>\n",
       "      <td>2215</td>\n",
       "      <td>B</td>\n",
       "      <td>0.0</td>\n",
       "      <td>0</td>\n",
       "    </tr>\n",
       "    <tr>\n",
       "      <th>43</th>\n",
       "      <td>3391</td>\n",
       "      <td>A</td>\n",
       "      <td>0.0</td>\n",
       "      <td>0</td>\n",
       "    </tr>\n",
       "    <tr>\n",
       "      <th>45</th>\n",
       "      <td>3401</td>\n",
       "      <td>B</td>\n",
       "      <td>0.0</td>\n",
       "      <td>0</td>\n",
       "    </tr>\n",
       "  </tbody>\n",
       "</table>\n",
       "</div>"
      ],
      "text/plain": [
       "      id grp    rev  paid\n",
       "1   1627   A  990.0     1\n",
       "10  2085   B    0.0     0\n",
       "12  2215   B    0.0     0\n",
       "43  3391   A    0.0     0\n",
       "45  3401   B    0.0     0"
      ]
     },
     "execution_count": 96,
     "metadata": {},
     "output_type": "execute_result"
    }
   ],
   "source": [
    "df_active.drop('is_active', inplace=True, axis=1)\n",
    "df_active.head()"
   ]
  },
  {
   "cell_type": "code",
   "execution_count": 97,
   "id": "04102479",
   "metadata": {},
   "outputs": [
    {
     "data": {
      "text/html": [
       "<div>\n",
       "<style scoped>\n",
       "    .dataframe tbody tr th:only-of-type {\n",
       "        vertical-align: middle;\n",
       "    }\n",
       "\n",
       "    .dataframe tbody tr th {\n",
       "        vertical-align: top;\n",
       "    }\n",
       "\n",
       "    .dataframe thead th {\n",
       "        text-align: right;\n",
       "    }\n",
       "</style>\n",
       "<table border=\"1\" class=\"dataframe\">\n",
       "  <thead>\n",
       "    <tr style=\"text-align: right;\">\n",
       "      <th></th>\n",
       "      <th>grp</th>\n",
       "      <th>avg_rev</th>\n",
       "      <th>avg_paid</th>\n",
       "      <th>count_id</th>\n",
       "    </tr>\n",
       "  </thead>\n",
       "  <tbody>\n",
       "    <tr>\n",
       "      <th>0</th>\n",
       "      <td>A</td>\n",
       "      <td>47.347204</td>\n",
       "      <td>0.050715</td>\n",
       "      <td>1538</td>\n",
       "    </tr>\n",
       "    <tr>\n",
       "      <th>1</th>\n",
       "      <td>B</td>\n",
       "      <td>58.058798</td>\n",
       "      <td>0.046156</td>\n",
       "      <td>6803</td>\n",
       "    </tr>\n",
       "  </tbody>\n",
       "</table>\n",
       "</div>"
      ],
      "text/plain": [
       "  grp    avg_rev  avg_paid  count_id\n",
       "0   A  47.347204  0.050715      1538\n",
       "1   B  58.058798  0.046156      6803"
      ]
     },
     "execution_count": 97,
     "metadata": {},
     "output_type": "execute_result"
    }
   ],
   "source": [
    "df_1 = df_active \\\n",
    "    .groupby('grp', as_index = False)\\\n",
    "    .agg({'rev':'mean', \n",
    "          'paid':'mean', \n",
    "          'id':'count'})\\\n",
    "    .rename(columns={'rev': 'avg_rev',\n",
    "                     'paid':'avg_paid',\n",
    "                     'id':'count_id'})\n",
    "df_1.head(2)"
   ]
  },
  {
   "attachments": {},
   "cell_type": "markdown",
   "id": "90b7118b",
   "metadata": {},
   "source": [
    "## Метрики\n",
    "\n",
    "**CR**  - отношение количества оплативших клиентов к  числу посетивших приложение.\n",
    "поможет понять где клиенту проще и комфортнее сделать оплату\n",
    "\n",
    "**ARPU** - отношение общей суммы платежей на количество пользователей зашедших в приложение.\n",
    "\n",
    "**ARPPU** - отношение общей суммы платежей на количество активных оплативших пользователей.\n",
    "\n"
   ]
  },
  {
   "attachments": {},
   "cell_type": "markdown",
   "id": "78c8653e",
   "metadata": {},
   "source": [
    "### Conversion (CR)"
   ]
  },
  {
   "cell_type": "code",
   "execution_count": 98,
   "id": "227ef621",
   "metadata": {},
   "outputs": [
    {
     "data": {
      "text/html": [
       "<div>\n",
       "<style scoped>\n",
       "    .dataframe tbody tr th:only-of-type {\n",
       "        vertical-align: middle;\n",
       "    }\n",
       "\n",
       "    .dataframe tbody tr th {\n",
       "        vertical-align: top;\n",
       "    }\n",
       "\n",
       "    .dataframe thead th {\n",
       "        text-align: right;\n",
       "    }\n",
       "</style>\n",
       "<table border=\"1\" class=\"dataframe\">\n",
       "  <thead>\n",
       "    <tr style=\"text-align: right;\">\n",
       "      <th></th>\n",
       "      <th>grp</th>\n",
       "      <th>cr</th>\n",
       "    </tr>\n",
       "  </thead>\n",
       "  <tbody>\n",
       "    <tr>\n",
       "      <th>0</th>\n",
       "      <td>A</td>\n",
       "      <td>0.050715</td>\n",
       "    </tr>\n",
       "    <tr>\n",
       "      <th>1</th>\n",
       "      <td>B</td>\n",
       "      <td>0.046156</td>\n",
       "    </tr>\n",
       "  </tbody>\n",
       "</table>\n",
       "</div>"
      ],
      "text/plain": [
       "  grp        cr\n",
       "0   A  0.050715\n",
       "1   B  0.046156"
      ]
     },
     "execution_count": 98,
     "metadata": {},
     "output_type": "execute_result"
    }
   ],
   "source": [
    "# Считаем конверсию по двум группам\n",
    "df_active \\\n",
    "    .groupby('grp', as_index=False) \\\n",
    "    .paid.mean() \\\n",
    "    .rename(columns={'paid': 'cr'})\n",
    "# Видим ухудшение в тестовой группе, по сравнению с контрольной."
   ]
  },
  {
   "cell_type": "code",
   "execution_count": 99,
   "id": "a583b466",
   "metadata": {},
   "outputs": [
    {
     "data": {
      "text/plain": [
       "<Axes: xlabel='paid', ylabel='Count'>"
      ]
     },
     "execution_count": 99,
     "metadata": {},
     "output_type": "execute_result"
    },
    {
     "data": {
      "image/png": "[encoded data removed]",
      "text/plain": [
       "<Figure size 640x480 with 1 Axes>"
      ]
     },
     "metadata": {},
     "output_type": "display_data"
    }
   ],
   "source": [
    "# Также визуализируем распределение конверсии в группах\n",
    "sns.histplot(x='paid', \n",
    "             data=df_active[['grp','paid']], \n",
    "             hue='grp')\n"
   ]
  },
  {
   "cell_type": "code",
   "execution_count": 100,
   "id": "306665cd",
   "metadata": {},
   "outputs": [],
   "source": [
    "from scipy import stats\n",
    "from scipy.stats import norm\n",
    "import pingouin as pg"
   ]
  },
  {
   "attachments": {},
   "cell_type": "markdown",
   "id": "01bc38d4",
   "metadata": {},
   "source": [
    "### ARPU"
   ]
  },
  {
   "cell_type": "code",
   "execution_count": 102,
   "id": "23888e5d",
   "metadata": {},
   "outputs": [],
   "source": [
    "a_group = df_active.query('grp == \"A\"')\n",
    "b_group = df_active.query('grp == \"B\"')"
   ]
  },
  {
   "cell_type": "code",
   "execution_count": 103,
   "id": "9930813f",
   "metadata": {},
   "outputs": [
    {
     "data": {
      "text/html": [
       "<div>\n",
       "<style scoped>\n",
       "    .dataframe tbody tr th:only-of-type {\n",
       "        vertical-align: middle;\n",
       "    }\n",
       "\n",
       "    .dataframe tbody tr th {\n",
       "        vertical-align: top;\n",
       "    }\n",
       "\n",
       "    .dataframe thead th {\n",
       "        text-align: right;\n",
       "    }\n",
       "</style>\n",
       "<table border=\"1\" class=\"dataframe\">\n",
       "  <thead>\n",
       "    <tr style=\"text-align: right;\">\n",
       "      <th></th>\n",
       "      <th>Group A</th>\n",
       "      <th>Group B</th>\n",
       "    </tr>\n",
       "  </thead>\n",
       "  <tbody>\n",
       "    <tr>\n",
       "      <th>count</th>\n",
       "      <td>1538.000000</td>\n",
       "      <td>6803.000000</td>\n",
       "    </tr>\n",
       "    <tr>\n",
       "      <th>mean</th>\n",
       "      <td>47.347204</td>\n",
       "      <td>58.058798</td>\n",
       "    </tr>\n",
       "    <tr>\n",
       "      <th>std</th>\n",
       "      <td>290.490632</td>\n",
       "      <td>313.770201</td>\n",
       "    </tr>\n",
       "    <tr>\n",
       "      <th>min</th>\n",
       "      <td>0.000000</td>\n",
       "      <td>0.000000</td>\n",
       "    </tr>\n",
       "    <tr>\n",
       "      <th>25%</th>\n",
       "      <td>0.000000</td>\n",
       "      <td>0.000000</td>\n",
       "    </tr>\n",
       "    <tr>\n",
       "      <th>50%</th>\n",
       "      <td>0.000000</td>\n",
       "      <td>0.000000</td>\n",
       "    </tr>\n",
       "    <tr>\n",
       "      <th>75%</th>\n",
       "      <td>0.000000</td>\n",
       "      <td>0.000000</td>\n",
       "    </tr>\n",
       "    <tr>\n",
       "      <th>max</th>\n",
       "      <td>3660.000000</td>\n",
       "      <td>4650.000000</td>\n",
       "    </tr>\n",
       "  </tbody>\n",
       "</table>\n",
       "</div>"
      ],
      "text/plain": [
       "           Group A      Group B\n",
       "count  1538.000000  6803.000000\n",
       "mean     47.347204    58.058798\n",
       "std     290.490632   313.770201\n",
       "min       0.000000     0.000000\n",
       "25%       0.000000     0.000000\n",
       "50%       0.000000     0.000000\n",
       "75%       0.000000     0.000000\n",
       "max    3660.000000  4650.000000"
      ]
     },
     "execution_count": 103,
     "metadata": {},
     "output_type": "execute_result"
    }
   ],
   "source": [
    "a_descr = a_group.rev.describe().to_frame().rename(columns={'rev': 'Group A'})\n",
    "b_descr = b_group.rev.describe().to_frame().rename(columns={'rev': 'Group B'})\n",
    "pd.concat([a_descr, b_descr], axis=1)"
   ]
  },
  {
   "cell_type": "code",
   "execution_count": 104,
   "id": "9a0e02cb",
   "metadata": {},
   "outputs": [
    {
     "data": {
      "text/html": [
       "<div>\n",
       "<style scoped>\n",
       "    .dataframe tbody tr th:only-of-type {\n",
       "        vertical-align: middle;\n",
       "    }\n",
       "\n",
       "    .dataframe tbody tr th {\n",
       "        vertical-align: top;\n",
       "    }\n",
       "\n",
       "    .dataframe thead th {\n",
       "        text-align: right;\n",
       "    }\n",
       "</style>\n",
       "<table border=\"1\" class=\"dataframe\">\n",
       "  <thead>\n",
       "    <tr style=\"text-align: right;\">\n",
       "      <th></th>\n",
       "      <th>grp</th>\n",
       "      <th>ARPU</th>\n",
       "    </tr>\n",
       "  </thead>\n",
       "  <tbody>\n",
       "    <tr>\n",
       "      <th>0</th>\n",
       "      <td>A</td>\n",
       "      <td>47.347204</td>\n",
       "    </tr>\n",
       "    <tr>\n",
       "      <th>1</th>\n",
       "      <td>B</td>\n",
       "      <td>58.058798</td>\n",
       "    </tr>\n",
       "  </tbody>\n",
       "</table>\n",
       "</div>"
      ],
      "text/plain": [
       "  grp       ARPU\n",
       "0   A  47.347204\n",
       "1   B  58.058798"
      ]
     },
     "execution_count": 104,
     "metadata": {},
     "output_type": "execute_result"
    }
   ],
   "source": [
    "# Считаем ARPU по двум группам. Наблюдается улучшение в тестовой группе\n",
    "df_active.groupby('grp', as_index=False).rev.mean().rename(columns={'rev': 'ARPU'})"
   ]
  },
  {
   "cell_type": "code",
   "execution_count": 105,
   "id": "223d2e18",
   "metadata": {},
   "outputs": [
    {
     "data": {
      "text/html": [
       "<div>\n",
       "<style scoped>\n",
       "    .dataframe tbody tr th:only-of-type {\n",
       "        vertical-align: middle;\n",
       "    }\n",
       "\n",
       "    .dataframe tbody tr th {\n",
       "        vertical-align: top;\n",
       "    }\n",
       "\n",
       "    .dataframe thead th {\n",
       "        text-align: right;\n",
       "    }\n",
       "</style>\n",
       "<table border=\"1\" class=\"dataframe\">\n",
       "  <thead>\n",
       "    <tr style=\"text-align: right;\">\n",
       "      <th></th>\n",
       "      <th>W</th>\n",
       "      <th>pval</th>\n",
       "      <th>normal</th>\n",
       "    </tr>\n",
       "    <tr>\n",
       "      <th>grp</th>\n",
       "      <th></th>\n",
       "      <th></th>\n",
       "      <th></th>\n",
       "    </tr>\n",
       "  </thead>\n",
       "  <tbody>\n",
       "    <tr>\n",
       "      <th>A</th>\n",
       "      <td>2240.595797</td>\n",
       "      <td>0.0</td>\n",
       "      <td>False</td>\n",
       "    </tr>\n",
       "    <tr>\n",
       "      <th>B</th>\n",
       "      <td>7797.399212</td>\n",
       "      <td>0.0</td>\n",
       "      <td>False</td>\n",
       "    </tr>\n",
       "  </tbody>\n",
       "</table>\n",
       "</div>"
      ],
      "text/plain": [
       "               W  pval  normal\n",
       "grp                           \n",
       "A    2240.595797   0.0   False\n",
       "B    7797.399212   0.0   False"
      ]
     },
     "execution_count": 105,
     "metadata": {},
     "output_type": "execute_result"
    }
   ],
   "source": [
    "# Ненормальное распределение в группах А и B\n",
    "pg.normality(data=df_active, dv='rev', group='grp', method='normaltest')"
   ]
  },
  {
   "attachments": {},
   "cell_type": "markdown",
   "id": "8a73c460",
   "metadata": {},
   "source": [
    "### ARPPU"
   ]
  },
  {
   "cell_type": "code",
   "execution_count": 106,
   "id": "abdbec9a",
   "metadata": {},
   "outputs": [
    {
     "data": {
      "text/html": [
       "<div>\n",
       "<style scoped>\n",
       "    .dataframe tbody tr th:only-of-type {\n",
       "        vertical-align: middle;\n",
       "    }\n",
       "\n",
       "    .dataframe tbody tr th {\n",
       "        vertical-align: top;\n",
       "    }\n",
       "\n",
       "    .dataframe thead th {\n",
       "        text-align: right;\n",
       "    }\n",
       "</style>\n",
       "<table border=\"1\" class=\"dataframe\">\n",
       "  <thead>\n",
       "    <tr style=\"text-align: right;\">\n",
       "      <th></th>\n",
       "      <th>id</th>\n",
       "      <th>grp</th>\n",
       "      <th>rev</th>\n",
       "      <th>paid</th>\n",
       "    </tr>\n",
       "  </thead>\n",
       "  <tbody>\n",
       "    <tr>\n",
       "      <th>1</th>\n",
       "      <td>1627</td>\n",
       "      <td>A</td>\n",
       "      <td>990.0000</td>\n",
       "      <td>1</td>\n",
       "    </tr>\n",
       "    <tr>\n",
       "      <th>220</th>\n",
       "      <td>100300</td>\n",
       "      <td>B</td>\n",
       "      <td>990.0000</td>\n",
       "      <td>1</td>\n",
       "    </tr>\n",
       "    <tr>\n",
       "      <th>320</th>\n",
       "      <td>108270</td>\n",
       "      <td>B</td>\n",
       "      <td>290.0000</td>\n",
       "      <td>1</td>\n",
       "    </tr>\n",
       "    <tr>\n",
       "      <th>3779</th>\n",
       "      <td>264473</td>\n",
       "      <td>B</td>\n",
       "      <td>1900.0001</td>\n",
       "      <td>1</td>\n",
       "    </tr>\n",
       "    <tr>\n",
       "      <th>4187</th>\n",
       "      <td>274352</td>\n",
       "      <td>B</td>\n",
       "      <td>690.0000</td>\n",
       "      <td>1</td>\n",
       "    </tr>\n",
       "  </tbody>\n",
       "</table>\n",
       "</div>"
      ],
      "text/plain": [
       "          id grp        rev  paid\n",
       "1       1627   A   990.0000     1\n",
       "220   100300   B   990.0000     1\n",
       "320   108270   B   290.0000     1\n",
       "3779  264473   B  1900.0001     1\n",
       "4187  274352   B   690.0000     1"
      ]
     },
     "execution_count": 106,
     "metadata": {},
     "output_type": "execute_result"
    }
   ],
   "source": [
    "active_paid = df_active.query('rev > 0')\n",
    "active_paid.head()"
   ]
  },
  {
   "cell_type": "code",
   "execution_count": 107,
   "id": "55f47b8d",
   "metadata": {},
   "outputs": [],
   "source": [
    "a_group_paid = active_paid.query('grp == \"A\"')\n",
    "b_group_paid = active_paid.query('grp == \"B\"')"
   ]
  },
  {
   "cell_type": "code",
   "execution_count": 108,
   "id": "ed106551",
   "metadata": {},
   "outputs": [
    {
     "data": {
      "text/html": [
       "<div>\n",
       "<style scoped>\n",
       "    .dataframe tbody tr th:only-of-type {\n",
       "        vertical-align: middle;\n",
       "    }\n",
       "\n",
       "    .dataframe tbody tr th {\n",
       "        vertical-align: top;\n",
       "    }\n",
       "\n",
       "    .dataframe thead th {\n",
       "        text-align: right;\n",
       "    }\n",
       "</style>\n",
       "<table border=\"1\" class=\"dataframe\">\n",
       "  <thead>\n",
       "    <tr style=\"text-align: right;\">\n",
       "      <th></th>\n",
       "      <th>Group A</th>\n",
       "      <th>Group B</th>\n",
       "    </tr>\n",
       "  </thead>\n",
       "  <tbody>\n",
       "    <tr>\n",
       "      <th>count</th>\n",
       "      <td>78.000000</td>\n",
       "      <td>314.000000</td>\n",
       "    </tr>\n",
       "    <tr>\n",
       "      <th>mean</th>\n",
       "      <td>933.589744</td>\n",
       "      <td>1257.878992</td>\n",
       "    </tr>\n",
       "    <tr>\n",
       "      <th>std</th>\n",
       "      <td>919.932711</td>\n",
       "      <td>790.864254</td>\n",
       "    </tr>\n",
       "    <tr>\n",
       "      <th>min</th>\n",
       "      <td>199.000000</td>\n",
       "      <td>199.000000</td>\n",
       "    </tr>\n",
       "    <tr>\n",
       "      <th>25%</th>\n",
       "      <td>290.000000</td>\n",
       "      <td>511.750000</td>\n",
       "    </tr>\n",
       "    <tr>\n",
       "      <th>50%</th>\n",
       "      <td>585.000000</td>\n",
       "      <td>1140.000000</td>\n",
       "    </tr>\n",
       "    <tr>\n",
       "      <th>75%</th>\n",
       "      <td>1114.750000</td>\n",
       "      <td>1900.000000</td>\n",
       "    </tr>\n",
       "    <tr>\n",
       "      <th>max</th>\n",
       "      <td>3660.000000</td>\n",
       "      <td>4650.000000</td>\n",
       "    </tr>\n",
       "  </tbody>\n",
       "</table>\n",
       "</div>"
      ],
      "text/plain": [
       "           Group A      Group B\n",
       "count    78.000000   314.000000\n",
       "mean    933.589744  1257.878992\n",
       "std     919.932711   790.864254\n",
       "min     199.000000   199.000000\n",
       "25%     290.000000   511.750000\n",
       "50%     585.000000  1140.000000\n",
       "75%    1114.750000  1900.000000\n",
       "max    3660.000000  4650.000000"
      ]
     },
     "execution_count": 108,
     "metadata": {},
     "output_type": "execute_result"
    }
   ],
   "source": [
    "a_paid_desc = a_group_paid.rev.describe().to_frame().rename(columns={'rev': 'Group A'})\n",
    "b_paid_desc = b_group_paid.rev.describe().to_frame().rename(columns={'rev': 'Group B'})\n",
    "pd.concat([a_paid_desc, b_paid_desc], axis=1)"
   ]
  },
  {
   "cell_type": "code",
   "execution_count": 109,
   "id": "113da96d",
   "metadata": {},
   "outputs": [
    {
     "data": {
      "image/png": "[encoded data removed]",
      "text/plain": [
       "<Figure size 640x480 with 1 Axes>"
      ]
     },
     "metadata": {},
     "output_type": "display_data"
    }
   ],
   "source": [
    "sns.boxplot(data=active_paid, y='rev', x='grp')\n",
    "sns.despine()"
   ]
  },
  {
   "cell_type": "code",
   "execution_count": 110,
   "id": "cbe75f60",
   "metadata": {},
   "outputs": [
    {
     "data": {
      "text/plain": [
       "Text(0.5, 0, 'Revenue')"
      ]
     },
     "execution_count": 110,
     "metadata": {},
     "output_type": "execute_result"
    },
    {
     "data": {
      "image/png": "[encoded data removed]",
      "text/plain": [
       "<Figure size 640x480 with 1 Axes>"
      ]
     },
     "metadata": {},
     "output_type": "display_data"
    }
   ],
   "source": [
    "ax = sns.histplot(data = active_paid, x = 'rev', hue = 'grp')\n",
    "ax.set_title('Распределение чеков\\n')\n",
    "ax.set_xlabel('Revenue')"
   ]
  },
  {
   "cell_type": "code",
   "execution_count": 111,
   "id": "7e66a1a7",
   "metadata": {},
   "outputs": [
    {
     "data": {
      "text/html": [
       "<div>\n",
       "<style scoped>\n",
       "    .dataframe tbody tr th:only-of-type {\n",
       "        vertical-align: middle;\n",
       "    }\n",
       "\n",
       "    .dataframe tbody tr th {\n",
       "        vertical-align: top;\n",
       "    }\n",
       "\n",
       "    .dataframe thead th {\n",
       "        text-align: right;\n",
       "    }\n",
       "</style>\n",
       "<table border=\"1\" class=\"dataframe\">\n",
       "  <thead>\n",
       "    <tr style=\"text-align: right;\">\n",
       "      <th></th>\n",
       "      <th>W</th>\n",
       "      <th>pval</th>\n",
       "      <th>normal</th>\n",
       "    </tr>\n",
       "    <tr>\n",
       "      <th>grp</th>\n",
       "      <th></th>\n",
       "      <th></th>\n",
       "      <th></th>\n",
       "    </tr>\n",
       "  </thead>\n",
       "  <tbody>\n",
       "    <tr>\n",
       "      <th>A</th>\n",
       "      <td>30.378420</td>\n",
       "      <td>2.531687e-07</td>\n",
       "      <td>False</td>\n",
       "    </tr>\n",
       "    <tr>\n",
       "      <th>B</th>\n",
       "      <td>6.795663</td>\n",
       "      <td>3.344572e-02</td>\n",
       "      <td>False</td>\n",
       "    </tr>\n",
       "  </tbody>\n",
       "</table>\n",
       "</div>"
      ],
      "text/plain": [
       "             W          pval  normal\n",
       "grp                                 \n",
       "A    30.378420  2.531687e-07   False\n",
       "B     6.795663  3.344572e-02   False"
      ]
     },
     "execution_count": 111,
     "metadata": {},
     "output_type": "execute_result"
    }
   ],
   "source": [
    "# Ненормальное распределение в группах А и B\n",
    "pg.normality(data=active_paid, dv='rev', group='grp', method='normaltest')"
   ]
  },
  {
   "attachments": {},
   "cell_type": "markdown",
   "id": "f9cf3bf0",
   "metadata": {},
   "source": [
    "### Обзор метрик\n",
    "\n",
    "Ответим на вопрос: Имеются ли различия в показателях и с чем они могут быть связаны?"
   ]
  },
  {
   "cell_type": "code",
   "execution_count": 112,
   "id": "bc08444c",
   "metadata": {},
   "outputs": [
    {
     "data": {
      "text/html": [
       "<div>\n",
       "<style scoped>\n",
       "    .dataframe tbody tr th:only-of-type {\n",
       "        vertical-align: middle;\n",
       "    }\n",
       "\n",
       "    .dataframe tbody tr th {\n",
       "        vertical-align: top;\n",
       "    }\n",
       "\n",
       "    .dataframe thead th {\n",
       "        text-align: right;\n",
       "    }\n",
       "</style>\n",
       "<table border=\"1\" class=\"dataframe\">\n",
       "  <thead>\n",
       "    <tr style=\"text-align: right;\">\n",
       "      <th></th>\n",
       "      <th>grp</th>\n",
       "      <th>users</th>\n",
       "      <th>pay_users</th>\n",
       "      <th>rev</th>\n",
       "      <th>not_pay_users</th>\n",
       "      <th>arpu</th>\n",
       "      <th>arppu</th>\n",
       "      <th>cr</th>\n",
       "    </tr>\n",
       "  </thead>\n",
       "  <tbody>\n",
       "    <tr>\n",
       "      <th>0</th>\n",
       "      <td>A</td>\n",
       "      <td>1538</td>\n",
       "      <td>78</td>\n",
       "      <td>72820.0000</td>\n",
       "      <td>1460</td>\n",
       "      <td>47.35</td>\n",
       "      <td>933.59</td>\n",
       "      <td>5.07</td>\n",
       "    </tr>\n",
       "    <tr>\n",
       "      <th>1</th>\n",
       "      <td>B</td>\n",
       "      <td>6803</td>\n",
       "      <td>314</td>\n",
       "      <td>394974.0035</td>\n",
       "      <td>6489</td>\n",
       "      <td>58.06</td>\n",
       "      <td>1257.88</td>\n",
       "      <td>4.62</td>\n",
       "    </tr>\n",
       "  </tbody>\n",
       "</table>\n",
       "</div>"
      ],
      "text/plain": [
       "  grp  users  pay_users          rev  not_pay_users   arpu    arppu    cr\n",
       "0   A   1538         78   72820.0000           1460  47.35   933.59  5.07\n",
       "1   B   6803        314  394974.0035           6489  58.06  1257.88  4.62"
      ]
     },
     "execution_count": 112,
     "metadata": {},
     "output_type": "execute_result"
    }
   ],
   "source": [
    "metrics = df_active.groupby('grp', as_index = False)\\\n",
    "                    .agg({'id': 'count', 'paid': 'sum','rev': 'sum'})\\\n",
    "                    .rename(columns = {'id': 'users', 'paid': 'pay_users'})\\\n",
    "                    .assign(not_pay_users = lambda x: x.users - x.pay_users, \\\n",
    "                            arpu = lambda x:round((x.rev / x.users),2), \\\n",
    "                            arppu = lambda x: round((x.rev / x.pay_users),2),\\\n",
    "                            cr = lambda x: round((x.pay_users / x.users) * 100,2))\n",
    "metrics\n",
    "# в третьем задании для удобства будем использовать этот кусок кода"
   ]
  },
  {
   "cell_type": "code",
   "execution_count": 113,
   "id": "ce1299a8",
   "metadata": {},
   "outputs": [
    {
     "data": {
      "text/html": [
       "<div>\n",
       "<style scoped>\n",
       "    .dataframe tbody tr th:only-of-type {\n",
       "        vertical-align: middle;\n",
       "    }\n",
       "\n",
       "    .dataframe tbody tr th {\n",
       "        vertical-align: top;\n",
       "    }\n",
       "\n",
       "    .dataframe thead th {\n",
       "        text-align: right;\n",
       "    }\n",
       "</style>\n",
       "<table border=\"1\" class=\"dataframe\">\n",
       "  <thead>\n",
       "    <tr style=\"text-align: right;\">\n",
       "      <th></th>\n",
       "      <th>arpu</th>\n",
       "      <th>arppu</th>\n",
       "      <th>cr</th>\n",
       "    </tr>\n",
       "  </thead>\n",
       "  <tbody>\n",
       "    <tr>\n",
       "      <th>0</th>\n",
       "      <td>47.35</td>\n",
       "      <td>933.59</td>\n",
       "      <td>5.07</td>\n",
       "    </tr>\n",
       "    <tr>\n",
       "      <th>1</th>\n",
       "      <td>58.06</td>\n",
       "      <td>1257.88</td>\n",
       "      <td>4.62</td>\n",
       "    </tr>\n",
       "  </tbody>\n",
       "</table>\n",
       "</div>"
      ],
      "text/plain": [
       "    arpu    arppu    cr\n",
       "0  47.35   933.59  5.07\n",
       "1  58.06  1257.88  4.62"
      ]
     },
     "execution_count": 113,
     "metadata": {},
     "output_type": "execute_result"
    }
   ],
   "source": [
    "df = metrics[['arpu', 'arppu', 'cr']] # для дальнейших расчетов возьму только необхлжимые колонки\n",
    "df\n",
    "# 0 - это A, 1 - B"
   ]
  },
  {
   "cell_type": "code",
   "execution_count": 114,
   "id": "3c823a55",
   "metadata": {},
   "outputs": [
    {
     "data": {
      "text/html": [
       "<div>\n",
       "<style scoped>\n",
       "    .dataframe tbody tr th:only-of-type {\n",
       "        vertical-align: middle;\n",
       "    }\n",
       "\n",
       "    .dataframe tbody tr th {\n",
       "        vertical-align: top;\n",
       "    }\n",
       "\n",
       "    .dataframe thead th {\n",
       "        text-align: right;\n",
       "    }\n",
       "</style>\n",
       "<table border=\"1\" class=\"dataframe\">\n",
       "  <thead>\n",
       "    <tr style=\"text-align: right;\">\n",
       "      <th></th>\n",
       "      <th>arpu</th>\n",
       "      <th>arppu</th>\n",
       "      <th>cr</th>\n",
       "    </tr>\n",
       "  </thead>\n",
       "  <tbody>\n",
       "    <tr>\n",
       "      <th>0</th>\n",
       "      <td>22.62</td>\n",
       "      <td>34.74</td>\n",
       "      <td>-8.88</td>\n",
       "    </tr>\n",
       "  </tbody>\n",
       "</table>\n",
       "</div>"
      ],
      "text/plain": [
       "    arpu  arppu    cr\n",
       "0  22.62  34.74 -8.88"
      ]
     },
     "execution_count": 114,
     "metadata": {},
     "output_type": "execute_result"
    }
   ],
   "source": [
    "# ответим на вопрос есть ли разница между группой А и В \n",
    "# разницу каждой метрики, переведем в процент\n",
    "# перезапишем в новую таблицу, чтоб красиво было \n",
    "diff_metrics = pd.DataFrame(round((-df.iloc[0] + df.iloc[1])/df.iloc[0]*100, 2)).T\n",
    "diff_metrics"
   ]
  },
  {
   "attachments": {},
   "cell_type": "markdown",
   "id": "419bfccb",
   "metadata": {},
   "source": [
    "1. изменение конверсии(CR) -8.88 %\n",
    "2. изменение дохода с пользователя (ARPU) 22.62 %\n",
    "3. изменение дохода с покупателя (ARPU) 34.74 %\n",
    "\n",
    "Конверсия падает, но доход на пользователя/покупателя растёт"
   ]
  },
  {
   "attachments": {},
   "cell_type": "markdown",
   "id": "26679cca",
   "metadata": {},
   "source": [
    "### Тесты"
   ]
  },
  {
   "attachments": {},
   "cell_type": "markdown",
   "id": "897a3aed",
   "metadata": {},
   "source": [
    "#### Note\n",
    "Размеры групп сильно отличаются.  Плюс распределения в группах A и B не являются нормальными (были проведены тесты на нормальность). Буду применять bootstrap.\n",
    "\n",
    "1. bootstrap распределения для групп А и B.\n",
    "2. Определение их разницы.\n",
    "3. В получившемся рапределении разницы определяем доверительный интервал.\n",
    "4. Попадает ли доверительный интервал в 0.\n"
   ]
  },
  {
   "cell_type": "code",
   "execution_count": 115,
   "id": "bc2ad879",
   "metadata": {},
   "outputs": [],
   "source": [
    "# бутстрап\n",
    "def get_bootstrap(\n",
    "    data_col_1, # числовые значения первой выборки\n",
    "    data_col_2, # числовые значения второй выборки\n",
    "    boot_iter = 2000, # количество бутстрап-выборок\n",
    "    statistic = np.mean, # интересующая статистика\n",
    "    bootstrap_conf_level = 0.95 # уровень значимости\n",
    "):\n",
    "    boot_len = max(len(data_col_1), len(data_col_2))\n",
    "    boot_data = []\n",
    "    for i in range(boot_iter): # извлекаем подвыборки\n",
    "        samples_1 = data_col_1.sample(\n",
    "            boot_len,\n",
    "            replace=True # параметр возвращения\n",
    "        ).values\n",
    "        \n",
    "        samples_2 = data_col_2.sample(\n",
    "            boot_len,\n",
    "            replace=True\n",
    "        ).values\n",
    "        \n",
    "        boot_data.append(statistic(samples_1 - samples_2))\n",
    "        \n",
    "    pd_boot_data = pd.DataFrame(boot_data)\n",
    "    \n",
    "    left_quant = (1 - bootstrap_conf_level) / 2\n",
    "    right_quant = 1 - (1 - bootstrap_conf_level) / 2\n",
    "    ci = pd_boot_data.quantile([left_quant, right_quant])\n",
    "    \n",
    "    p_1 = norm.cdf(\n",
    "        x = 0,\n",
    "        loc = np.mean(boot_data),\n",
    "        scale = np.std(boot_data))\n",
    "    p_2 = norm.cdf(\n",
    "        x = 0,\n",
    "        loc = -np.mean(boot_data),\n",
    "        scale = np.std(boot_data))\n",
    "    \n",
    "    p_value = min(p_1, p_2) * 2\n",
    "    \n",
    "    # Визуализация\n",
    "    plt.hist(pd_boot_data[0], bins=50)\n",
    "    \n",
    "    plt.style.use('ggplot')\n",
    "    plt.vlines(ci, ymin=0, ymax=50, linestyle='--')\n",
    "    plt.xlabel('boot_data')\n",
    "    plt.ylabel('frequency')\n",
    "    plt.title('Histogram of boot_data')\n",
    "    plt.show()\n",
    "    \n",
    "    return {'boot_data': boot_data,\n",
    "            'ci': ci,\n",
    "            'p_value': p_value}"
   ]
  },
  {
   "attachments": {},
   "cell_type": "markdown",
   "id": "fa8d3a54",
   "metadata": {},
   "source": [
    "### ARPU\n",
    "(используем бустрап)"
   ]
  },
  {
   "attachments": {},
   "cell_type": "markdown",
   "id": "2420c209",
   "metadata": {},
   "source": [
    "**Сформулируем нулевую и альтернативную гипотезы:**\n",
    "\n",
    " - **H0:** ARPU в двух группах одинаковые.\n",
    " - **H1:** ARPU в двух группах различаются."
   ]
  },
  {
   "cell_type": "code",
   "execution_count": 116,
   "id": "217349f2",
   "metadata": {},
   "outputs": [
    {
     "data": {
      "image/png": "[encoded data removed]",
      "text/plain": [
       "<Figure size 640x480 with 1 Axes>"
      ]
     },
     "metadata": {},
     "output_type": "display_data"
    }
   ],
   "source": [
    "bootstrap_test_1 = get_bootstrap(a_group.rev, b_group.rev, boot_iter=2000)"
   ]
  },
  {
   "cell_type": "code",
   "execution_count": 117,
   "id": "c472ebce",
   "metadata": {},
   "outputs": [
    {
     "data": {
      "text/html": [
       "<div>\n",
       "<style scoped>\n",
       "    .dataframe tbody tr th:only-of-type {\n",
       "        vertical-align: middle;\n",
       "    }\n",
       "\n",
       "    .dataframe tbody tr th {\n",
       "        vertical-align: top;\n",
       "    }\n",
       "\n",
       "    .dataframe thead th {\n",
       "        text-align: right;\n",
       "    }\n",
       "</style>\n",
       "<table border=\"1\" class=\"dataframe\">\n",
       "  <thead>\n",
       "    <tr style=\"text-align: right;\">\n",
       "      <th></th>\n",
       "      <th>0</th>\n",
       "    </tr>\n",
       "  </thead>\n",
       "  <tbody>\n",
       "    <tr>\n",
       "      <th>0.025</th>\n",
       "      <td>-20.968801</td>\n",
       "    </tr>\n",
       "    <tr>\n",
       "      <th>0.975</th>\n",
       "      <td>-0.700511</td>\n",
       "    </tr>\n",
       "  </tbody>\n",
       "</table>\n",
       "</div>"
      ],
      "text/plain": [
       "               0\n",
       "0.025 -20.968801\n",
       "0.975  -0.700511"
      ]
     },
     "execution_count": 117,
     "metadata": {},
     "output_type": "execute_result"
    }
   ],
   "source": [
    "bootstrap_test_1['ci']"
   ]
  },
  {
   "attachments": {},
   "cell_type": "markdown",
   "id": "05fd40b8",
   "metadata": {},
   "source": [
    "Ноль не входит в доверительный интервал - различия статистически значимы"
   ]
  },
  {
   "cell_type": "code",
   "execution_count": 118,
   "id": "b2c57287",
   "metadata": {},
   "outputs": [
    {
     "data": {
      "text/plain": [
       "0.040094605236706396"
      ]
     },
     "execution_count": 118,
     "metadata": {},
     "output_type": "execute_result"
    }
   ],
   "source": [
    "bootstrap_test_1['p_value']"
   ]
  },
  {
   "attachments": {},
   "cell_type": "markdown",
   "id": "61cd9c27",
   "metadata": {},
   "source": [
    "p-value < 0.05\n",
    "\n",
    "- Отклоняем нулевую гипотезу. \n",
    "\n",
    "##### Вывод по бутстрапу ARPU:\n",
    "Средние значения в тестовой и контрольной группах различаются на заданном уровне значимости, поскольку в 95-процентный доверительный интервал не попадает нулевое значение разницы между двумя средними.\n",
    "\n",
    "p-value < 0.05: имеем основание отвергнуть нулевую гипотезу в пользу альтернативной.\n",
    "\n",
    "ARPU в двух группах различаются "
   ]
  },
  {
   "attachments": {},
   "cell_type": "markdown",
   "id": "8fdf3973",
   "metadata": {},
   "source": [
    "### ARPPU\n",
    "\n",
    "**Сформулируем нулевую и альтернативную гипотезы:**\n",
    "\n",
    " - **H0:** ARPPU в двух группах одинаковые.\n",
    " - **H1:** ARPPU в двух группах различаются."
   ]
  },
  {
   "cell_type": "code",
   "execution_count": 119,
   "id": "3e84b489",
   "metadata": {},
   "outputs": [
    {
     "data": {
      "image/png": "[encoded data removed]",
      "text/plain": [
       "<Figure size 640x480 with 1 Axes>"
      ]
     },
     "metadata": {},
     "output_type": "display_data"
    }
   ],
   "source": [
    "bootstrap_test_2 = get_bootstrap(a_group_paid.rev, b_group_paid.rev, boot_iter=2000)"
   ]
  },
  {
   "cell_type": "code",
   "execution_count": 120,
   "id": "bf87c9af",
   "metadata": {},
   "outputs": [
    {
     "data": {
      "text/html": [
       "<div>\n",
       "<style scoped>\n",
       "    .dataframe tbody tr th:only-of-type {\n",
       "        vertical-align: middle;\n",
       "    }\n",
       "\n",
       "    .dataframe tbody tr th {\n",
       "        vertical-align: top;\n",
       "    }\n",
       "\n",
       "    .dataframe thead th {\n",
       "        text-align: right;\n",
       "    }\n",
       "</style>\n",
       "<table border=\"1\" class=\"dataframe\">\n",
       "  <thead>\n",
       "    <tr style=\"text-align: right;\">\n",
       "      <th></th>\n",
       "      <th>0</th>\n",
       "    </tr>\n",
       "  </thead>\n",
       "  <tbody>\n",
       "    <tr>\n",
       "      <th>0.025</th>\n",
       "      <td>-450.865219</td>\n",
       "    </tr>\n",
       "    <tr>\n",
       "      <th>0.975</th>\n",
       "      <td>-189.888228</td>\n",
       "    </tr>\n",
       "  </tbody>\n",
       "</table>\n",
       "</div>"
      ],
      "text/plain": [
       "                0\n",
       "0.025 -450.865219\n",
       "0.975 -189.888228"
      ]
     },
     "execution_count": 120,
     "metadata": {},
     "output_type": "execute_result"
    }
   ],
   "source": [
    "bootstrap_test_2['ci']"
   ]
  },
  {
   "cell_type": "code",
   "execution_count": 121,
   "id": "21d8f00b",
   "metadata": {},
   "outputs": [
    {
     "data": {
      "text/plain": [
       "1.9308521493907032e-06"
      ]
     },
     "execution_count": 121,
     "metadata": {},
     "output_type": "execute_result"
    }
   ],
   "source": [
    "bootstrap_test_2['p_value']"
   ]
  },
  {
   "attachments": {},
   "cell_type": "markdown",
   "id": "8567b325",
   "metadata": {},
   "source": [
    "p-value < 0.05\n",
    "- Отклоняем нулевую гипотезу. \n",
    "\n",
    "##### Вывод (ARPPU):\n",
    "ARPPU в тестовой и контрольной группах различаются на заданном уровне значимости, поскольку в 95-процентный доверительный интервал не попадает нулевое значение разницы между двумя средними.\n",
    "\n",
    "p-value < 0.05 :  позволяет нам утверждать, что средние в двух группах отличаются статистически значимо"
   ]
  },
  {
   "attachments": {},
   "cell_type": "markdown",
   "id": "04709f00",
   "metadata": {},
   "source": [
    "### CR"
   ]
  },
  {
   "attachments": {},
   "cell_type": "markdown",
   "id": "79f239e4",
   "metadata": {},
   "source": [
    "Расчет конверсии из вхождения на сайт в покупку кажется довольно целесообразной метрикой для сравнения. \n",
    "\n",
    "Из полученных ранее результатов в группе В конверия была ниже. Проверим значения на статистичесую значимость. \n",
    "Используем критерий хи-квадрат, так как переменные у нас категориальные.\n",
    "\n",
    " - **H0**: взаимосвязи между переменными нет\n",
    "- **H1**: взаимосвязь есть"
   ]
  },
  {
   "cell_type": "code",
   "execution_count": 122,
   "id": "d598cb8c",
   "metadata": {},
   "outputs": [
    {
     "data": {
      "text/plain": [
       "grp  paid\n",
       "A    0       1460\n",
       "     1         78\n",
       "B    0       6489\n",
       "     1        314\n",
       "Name: paid, dtype: int64"
      ]
     },
     "execution_count": 122,
     "metadata": {},
     "output_type": "execute_result"
    }
   ],
   "source": [
    "#Посмотрим на распределение пользователей купивших/некупивших в двух группах A/B\n",
    "df_active.groupby('grp').paid.value_counts()"
   ]
  },
  {
   "cell_type": "code",
   "execution_count": 123,
   "id": "45d606ec",
   "metadata": {},
   "outputs": [],
   "source": [
    "grp_a = df_active[df_active['grp'] == 'A']\n",
    "grp_b = df_active[df_active['grp'] == 'B']"
   ]
  },
  {
   "cell_type": "code",
   "execution_count": 124,
   "id": "100ba136",
   "metadata": {},
   "outputs": [],
   "source": [
    "a_pay = grp_a.paid.sum()\n",
    "a_no_pay = grp_a.paid.size - grp_a.paid.sum()\n",
    "b_pay = grp_b.paid.sum()\n",
    "b_no_pay = grp_b.paid.size - grp_b.paid.sum()"
   ]
  },
  {
   "cell_type": "code",
   "execution_count": 125,
   "id": "6f3a64f8",
   "metadata": {},
   "outputs": [],
   "source": [
    "cr_matrix = np.array([[a_pay, a_no_pay],\n",
    "                        [b_pay, b_no_pay]])"
   ]
  },
  {
   "cell_type": "code",
   "execution_count": 126,
   "id": "66d3accb",
   "metadata": {},
   "outputs": [
    {
     "data": {
      "text/plain": [
       "array([[  78, 1460],\n",
       "       [ 314, 6489]], dtype=int64)"
      ]
     },
     "execution_count": 126,
     "metadata": {},
     "output_type": "execute_result"
    }
   ],
   "source": [
    "cr_matrix"
   ]
  },
  {
   "cell_type": "code",
   "execution_count": 127,
   "id": "8f28f7df",
   "metadata": {},
   "outputs": [
    {
     "data": {
      "text/html": [
       "<div>\n",
       "<style scoped>\n",
       "    .dataframe tbody tr th:only-of-type {\n",
       "        vertical-align: middle;\n",
       "    }\n",
       "\n",
       "    .dataframe tbody tr th {\n",
       "        vertical-align: top;\n",
       "    }\n",
       "\n",
       "    .dataframe thead th {\n",
       "        text-align: right;\n",
       "    }\n",
       "</style>\n",
       "<table border=\"1\" class=\"dataframe\">\n",
       "  <thead>\n",
       "    <tr style=\"text-align: right;\">\n",
       "      <th></th>\n",
       "      <th>W</th>\n",
       "      <th>pval</th>\n",
       "      <th>equal_var</th>\n",
       "    </tr>\n",
       "  </thead>\n",
       "  <tbody>\n",
       "    <tr>\n",
       "      <th>levene</th>\n",
       "      <td>0.582052</td>\n",
       "      <td>0.445531</td>\n",
       "      <td>True</td>\n",
       "    </tr>\n",
       "  </tbody>\n",
       "</table>\n",
       "</div>"
      ],
      "text/plain": [
       "               W      pval  equal_var\n",
       "levene  0.582052  0.445531       True"
      ]
     },
     "execution_count": 127,
     "metadata": {},
     "output_type": "execute_result"
    }
   ],
   "source": [
    "#прверяем дисперсии\n",
    "pg.homoscedasticity(data=df_active, dv='paid', group='grp')"
   ]
  },
  {
   "attachments": {},
   "cell_type": "markdown",
   "id": "1376e624",
   "metadata": {},
   "source": [
    "данные по конверсии по сути представляют собой категориальные величины (0 или 1), лучшим выбором будет критерий Хи-квадрат тк:\n",
    "- наблюдения независимы\n",
    "- Количество наблюдений в каждой ячейке больше 5"
   ]
  },
  {
   "cell_type": "code",
   "execution_count": 128,
   "id": "d2b634e0",
   "metadata": {},
   "outputs": [
    {
     "name": "stdout",
     "output_type": "stream",
     "text": [
      "Chi2ContingencyResult(statistic=0.5821513741106591, pvalue=0.44547028437158964, dof=1, expected_freq=array([[  72.28102146, 1465.71897854],\n",
      "       [ 319.71897854, 6483.28102146]]))\n"
     ]
    }
   ],
   "source": [
    "print(chi2_contingency(cr_matrix, correction=False))"
   ]
  },
  {
   "attachments": {},
   "cell_type": "markdown",
   "id": "af658878",
   "metadata": {},
   "source": [
    "**Вывод:** p_value>0.05, не отвергаем нулевую гипотезу (новая механика не влияет на решение о покупке)\n",
    "(конверсии между двумя группами знамимых различий нет)"
   ]
  },
  {
   "cell_type": "code",
   "execution_count": 129,
   "id": "3f377f69",
   "metadata": {},
   "outputs": [
    {
     "data": {
      "image/png": "[encoded data removed]",
      "text/plain": [
       "<Figure size 640x480 with 1 Axes>"
      ]
     },
     "metadata": {},
     "output_type": "display_data"
    }
   ],
   "source": [
    "booted_data_cr = get_bootstrap(a_group.paid, b_group.paid, boot_iter=2000)"
   ]
  },
  {
   "cell_type": "code",
   "execution_count": 130,
   "id": "b3758472",
   "metadata": {},
   "outputs": [
    {
     "data": {
      "text/plain": [
       "0.22825555560015098"
      ]
     },
     "execution_count": 130,
     "metadata": {},
     "output_type": "execute_result"
    }
   ],
   "source": [
    "booted_data_cr['p_value']"
   ]
  },
  {
   "cell_type": "code",
   "execution_count": 131,
   "id": "20f5e2b5",
   "metadata": {},
   "outputs": [
    {
     "data": {
      "text/html": [
       "<div>\n",
       "<style scoped>\n",
       "    .dataframe tbody tr th:only-of-type {\n",
       "        vertical-align: middle;\n",
       "    }\n",
       "\n",
       "    .dataframe tbody tr th {\n",
       "        vertical-align: top;\n",
       "    }\n",
       "\n",
       "    .dataframe thead th {\n",
       "        text-align: right;\n",
       "    }\n",
       "</style>\n",
       "<table border=\"1\" class=\"dataframe\">\n",
       "  <thead>\n",
       "    <tr style=\"text-align: right;\">\n",
       "      <th></th>\n",
       "      <th>0</th>\n",
       "    </tr>\n",
       "  </thead>\n",
       "  <tbody>\n",
       "    <tr>\n",
       "      <th>0.025</th>\n",
       "      <td>-0.002646</td>\n",
       "    </tr>\n",
       "    <tr>\n",
       "      <th>0.975</th>\n",
       "      <td>0.011760</td>\n",
       "    </tr>\n",
       "  </tbody>\n",
       "</table>\n",
       "</div>"
      ],
      "text/plain": [
       "              0\n",
       "0.025 -0.002646\n",
       "0.975  0.011760"
      ]
     },
     "execution_count": 131,
     "metadata": {},
     "output_type": "execute_result"
    }
   ],
   "source": [
    "booted_data_cr['ci']"
   ]
  },
  {
   "attachments": {},
   "cell_type": "markdown",
   "id": "e3ae2894",
   "metadata": {},
   "source": [
    "Дополнительно проведен бустрап.  0 - входит в ДИ. p-val > 0.05. Не отвергаем нулевую гипотезу. Различия между группами статистически незначимы"
   ]
  },
  {
   "attachments": {},
   "cell_type": "markdown",
   "id": "86e56bbb",
   "metadata": {},
   "source": [
    "### Вывод\n",
    "\n",
    "\n",
    "Положительное изменения по показателям ARPU и ARPPU, но негативные изменения по показателю CR\n",
    "\n",
    "После проведения статистических тестов выяснилось, что ухудшение по CR статистически **не значимо**, позитивное изменение по ARPU, ARPPU статистически значимо.\n",
    "\n",
    "В итоге: выкатываем новую механику оплаты на всех пользователей."
   ]
  },
  {
   "attachments": {},
   "cell_type": "markdown",
   "id": "da180ff5",
   "metadata": {},
   "source": [
    "\n",
    "Реализуйте функцию, которая будет автоматически подгружать информацию из дополнительного файла groups_add.csv (заголовки могут отличаться) и на основании дополнительных параметров пересчитывать метрики.\n",
    "Реализуйте функцию, которая будет строить графики по получаемым метрикам."
   ]
  },
  {
   "cell_type": "code",
   "execution_count": 141,
   "id": "0d108e17",
   "metadata": {},
   "outputs": [],
   "source": [
    "def metrics_update(groups, group_add, active_studs, checks): \n",
    "    \n",
    "    #перемименование колонок\n",
    "    group_add.rename(columns = {group_add.columns[0]: 'id'}, inplace = True)\n",
    "    groups.rename(columns = {groups.columns[0]: 'id'}, inplace = True)\n",
    "    checks.rename(columns = {checks.columns[0]: 'id'}, inplace = True)\n",
    "    active_studs.rename(columns = {active_studs.columns[0]: 'id'}, inplace = True)\n",
    "    \n",
    "    #собираем новый дф\n",
    "    general = pd.concat([groups, group_add])\n",
    "    df = general.merge(checks, on='id', how='left').fillna(0)\n",
    "    df['is_active'] = df.id.isin(active_studs.id)\n",
    "    \n",
    "    #интересуют только активные пользователи\n",
    "    df_active = df[(df.is_active)]\n",
    "    #создание новой колонки\n",
    "    df_active['paid'] = (df_active.rev != 0) * 1\n",
    "    df_active.drop('is_active', inplace=True, axis=1)\n",
    "    \n",
    "    metrics = df_active.groupby('grp', as_index = False)\\\n",
    "                    .agg({'id': 'count', 'paid': 'sum','rev': 'sum'})\\\n",
    "                    .rename(columns = {'id': 'users', 'paid': 'pay_users', 'rev': 'total_money'})\\\n",
    "                    .assign(not_pay_users = lambda x: x.users - x.pay_users, \\\n",
    "                            arpu = lambda x:round((x.total_money / x.users),2), \\\n",
    "                            arppu = lambda x: round((x.total_money / x.pay_users),2),\\\n",
    "                            cr = lambda x: round((x.pay_users / x.users) * 100,2))\n",
    "    metrics_1 = metrics[['grp', 'pay_users', 'not_pay_users', 'total_money', 'arpu', 'arppu', 'cr']]\n",
    "    return (metrics_1)"
   ]
  },
  {
   "cell_type": "code",
   "execution_count": 142,
   "id": "fee13e22",
   "metadata": {},
   "outputs": [
    {
     "data": {
      "text/html": [
       "<div>\n",
       "<style scoped>\n",
       "    .dataframe tbody tr th:only-of-type {\n",
       "        vertical-align: middle;\n",
       "    }\n",
       "\n",
       "    .dataframe tbody tr th {\n",
       "        vertical-align: top;\n",
       "    }\n",
       "\n",
       "    .dataframe thead th {\n",
       "        text-align: right;\n",
       "    }\n",
       "</style>\n",
       "<table border=\"1\" class=\"dataframe\">\n",
       "  <thead>\n",
       "    <tr style=\"text-align: right;\">\n",
       "      <th></th>\n",
       "      <th>grp</th>\n",
       "      <th>pay_users</th>\n",
       "      <th>not_pay_users</th>\n",
       "      <th>total_money</th>\n",
       "      <th>arpu</th>\n",
       "      <th>arppu</th>\n",
       "      <th>cr</th>\n",
       "    </tr>\n",
       "  </thead>\n",
       "  <tbody>\n",
       "    <tr>\n",
       "      <th>0</th>\n",
       "      <td>A</td>\n",
       "      <td>78</td>\n",
       "      <td>1460</td>\n",
       "      <td>72820.0000</td>\n",
       "      <td>47.35</td>\n",
       "      <td>933.59</td>\n",
       "      <td>5.07</td>\n",
       "    </tr>\n",
       "    <tr>\n",
       "      <th>1</th>\n",
       "      <td>B</td>\n",
       "      <td>314</td>\n",
       "      <td>6489</td>\n",
       "      <td>394974.0035</td>\n",
       "      <td>58.06</td>\n",
       "      <td>1257.88</td>\n",
       "      <td>4.62</td>\n",
       "    </tr>\n",
       "  </tbody>\n",
       "</table>\n",
       "</div>"
      ],
      "text/plain": [
       "  grp  pay_users  not_pay_users  total_money   arpu    arppu    cr\n",
       "0   A         78           1460   72820.0000  47.35   933.59  5.07\n",
       "1   B        314           6489  394974.0035  58.06  1257.88  4.62"
      ]
     },
     "execution_count": 142,
     "metadata": {},
     "output_type": "execute_result"
    }
   ],
   "source": [
    "result = metrics_update(groups, group_add, active_studs, checks)\n",
    "result"
   ]
  },
  {
   "cell_type": "code",
   "execution_count": 143,
   "id": "c3607a44",
   "metadata": {},
   "outputs": [],
   "source": [
    "def graphs(df):\n",
    "    \n",
    "    sns.set_theme(style = \"whitegrid\", )\n",
    "    fig, axs = plt.subplots(ncols = 3, figsize = (18, 6))\n",
    "    \n",
    "    sns.barplot(x = \"grp\", y = \"arpu\", data = result, ax = axs[0]).set_title('ARPU')\n",
    "    sns.barplot(x = \"grp\", y = \"arppu\", data = result, ax = axs[1]).set_title('ARPPU')\n",
    "    sns.barplot(x = \"grp\", y = \"cr\", data = result, ax = axs[2]).set_title('CR')\n",
    "    fig.show()"
   ]
  },
  {
   "cell_type": "code",
   "execution_count": 144,
   "id": "f15869d6",
   "metadata": {},
   "outputs": [
    {
     "data": {
      "image/png": "[encoded data removed]",
      "text/plain": [
       "<Figure size 1800x600 with 3 Axes>"
      ]
     },
     "metadata": {},
     "output_type": "display_data"
    }
   ],
   "source": [
    "graphs(result)"
   ]
  },
  {
   "cell_type": "code",
   "execution_count": null,
   "id": "d8b37d5e",
   "metadata": {},
   "outputs": [],
   "source": []
  }
 ],
 "metadata": {
  "kernelspec": {
   "display_name": "Python 3 (ipykernel)",
   "language": "python",
   "name": "python3"
  },
  "language_info": {
   "codemirror_mode": {
    "name": "ipython",
    "version": 3
   },
   "file_extension": ".py",
   "mimetype": "text/x-python",
   "name": "python",
   "nbconvert_exporter": "python",
   "pygments_lexer": "ipython3",
   "version": "3.11.1"
  }
 },
 "nbformat": 4,
 "nbformat_minor": 5
}
